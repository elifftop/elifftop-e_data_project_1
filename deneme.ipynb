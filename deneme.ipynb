{
 "cells": [
  {
   "cell_type": "code",
   "execution_count": 3,
   "metadata": {},
   "outputs": [
    {
     "name": "stdout",
     "output_type": "stream",
     "text": [
      "   KISI_ID  BASVURU_ID   YIL DÖNEM          BASVURU_TIPI         UYRUK  \\\n",
      "0      NaN           9  2012   Güz  Uluslararası Öğrenci          İRAN   \n",
      "1      NaN          12  2012   Güz  Uluslararası Öğrenci  TÜRKMENİSTAN   \n",
      "2      NaN          16  2012   Güz  Uluslararası Öğrenci    AZERBAYCAN   \n",
      "3      NaN          20  2012   Güz  Uluslararası Öğrenci        SURİYE   \n",
      "4      NaN          26  2012   Güz  Uluslararası Öğrenci  TÜRKMENİSTAN   \n",
      "\n",
      "  CINSIYET    PUAN      BASARI_DURUMU   KESIN_KAYIT_DURUMU  \n",
      "0    Kadın    15.0  DEGERLENDIRILMEDI  KESIN KAYIT YAPMADI  \n",
      "1    Kadın     5.0  DEGERLENDIRILMEDI  KESIN KAYIT YAPMADI  \n",
      "2    Erkek  1430.0  DEGERLENDIRILMEDI  KESIN KAYIT YAPMADI  \n",
      "3    Erkek   220.0  DEGERLENDIRILMEDI  KESIN KAYIT YAPMADI  \n",
      "4    Kadın    76.0  DEGERLENDIRILMEDI  KESIN KAYIT YAPMADI  \n"
     ]
    }
   ],
   "source": [
    "import pandas as pd\n",
    "\n",
    "# Excel dosyanızın adı\n",
    "file_name = 'BASVURU.xlsx'\n",
    "\n",
    "# Dosyayı okuma\n",
    "df = pd.read_excel(file_name, engine='openpyxl')\n",
    "\n",
    "# Veriyi görüntüleme\n",
    "print(df.head())\n"
   ]
  },
  {
   "cell_type": "code",
   "execution_count": null,
   "metadata": {},
   "outputs": [],
   "source": []
  }
 ],
 "metadata": {
  "kernelspec": {
   "display_name": "Python 3",
   "language": "python",
   "name": "python3"
  },
  "language_info": {
   "codemirror_mode": {
    "name": "ipython",
    "version": 3
   },
   "file_extension": ".py",
   "mimetype": "text/x-python",
   "name": "python",
   "nbconvert_exporter": "python",
   "pygments_lexer": "ipython3",
   "version": "3.12.0"
  }
 },
 "nbformat": 4,
 "nbformat_minor": 2
}
