{
 "cells": [
  {
   "cell_type": "code",
   "execution_count": 94,
   "metadata": {},
   "outputs": [
    {
     "name": "stdout",
     "output_type": "stream",
     "text": [
      "Requirement already satisfied: pandas in c:\\users\\elift\\appdata\\local\\programs\\python\\python312\\lib\\site-packages (2.1.3)\n",
      "Requirement already satisfied: scikit-learn in c:\\users\\elift\\appdata\\local\\programs\\python\\python312\\lib\\site-packages (1.5.1)\n",
      "Requirement already satisfied: matplotlib in c:\\users\\elift\\appdata\\local\\programs\\python\\python312\\lib\\site-packages (3.8.2)\n",
      "Requirement already satisfied: seaborn in c:\\users\\elift\\appdata\\local\\programs\\python\\python312\\lib\\site-packages (0.13.2)\n",
      "Requirement already satisfied: numpy<2,>=1.26.0 in c:\\users\\elift\\appdata\\local\\programs\\python\\python312\\lib\\site-packages (from pandas) (1.26.2)\n",
      "Requirement already satisfied: python-dateutil>=2.8.2 in c:\\users\\elift\\appdata\\local\\programs\\python\\python312\\lib\\site-packages (from pandas) (2.8.2)\n",
      "Requirement already satisfied: pytz>=2020.1 in c:\\users\\elift\\appdata\\local\\programs\\python\\python312\\lib\\site-packages (from pandas) (2023.3.post1)\n",
      "Requirement already satisfied: tzdata>=2022.1 in c:\\users\\elift\\appdata\\local\\programs\\python\\python312\\lib\\site-packages (from pandas) (2023.3)\n",
      "Requirement already satisfied: scipy>=1.6.0 in c:\\users\\elift\\appdata\\local\\programs\\python\\python312\\lib\\site-packages (from scikit-learn) (1.14.0)\n",
      "Requirement already satisfied: joblib>=1.2.0 in c:\\users\\elift\\appdata\\local\\programs\\python\\python312\\lib\\site-packages (from scikit-learn) (1.4.2)\n",
      "Requirement already satisfied: threadpoolctl>=3.1.0 in c:\\users\\elift\\appdata\\local\\programs\\python\\python312\\lib\\site-packages (from scikit-learn) (3.5.0)\n",
      "Requirement already satisfied: contourpy>=1.0.1 in c:\\users\\elift\\appdata\\local\\programs\\python\\python312\\lib\\site-packages (from matplotlib) (1.2.0)\n",
      "Requirement already satisfied: cycler>=0.10 in c:\\users\\elift\\appdata\\local\\programs\\python\\python312\\lib\\site-packages (from matplotlib) (0.12.1)\n",
      "Requirement already satisfied: fonttools>=4.22.0 in c:\\users\\elift\\appdata\\local\\programs\\python\\python312\\lib\\site-packages (from matplotlib) (4.45.1)\n",
      "Requirement already satisfied: kiwisolver>=1.3.1 in c:\\users\\elift\\appdata\\local\\programs\\python\\python312\\lib\\site-packages (from matplotlib) (1.4.5)\n",
      "Requirement already satisfied: packaging>=20.0 in c:\\users\\elift\\appdata\\local\\programs\\python\\python312\\lib\\site-packages (from matplotlib) (23.2)\n",
      "Requirement already satisfied: pillow>=8 in c:\\users\\elift\\appdata\\local\\programs\\python\\python312\\lib\\site-packages (from matplotlib) (10.1.0)\n",
      "Requirement already satisfied: pyparsing>=2.3.1 in c:\\users\\elift\\appdata\\local\\programs\\python\\python312\\lib\\site-packages (from matplotlib) (3.1.1)\n",
      "Requirement already satisfied: six>=1.5 in c:\\users\\elift\\appdata\\local\\programs\\python\\python312\\lib\\site-packages (from python-dateutil>=2.8.2->pandas) (1.16.0)\n",
      "Note: you may need to restart the kernel to use updated packages.\n"
     ]
    },
    {
     "name": "stderr",
     "output_type": "stream",
     "text": [
      "\n",
      "[notice] A new release of pip is available: 23.3.1 -> 24.1.2\n",
      "[notice] To update, run: python.exe -m pip install --upgrade pip\n"
     ]
    }
   ],
   "source": [
    "pip install pandas scikit-learn matplotlib seaborn\n"
   ]
  },
  {
   "cell_type": "code",
   "execution_count": 95,
   "metadata": {},
   "outputs": [
    {
     "name": "stdout",
     "output_type": "stream",
     "text": [
      "Kurulumlar başarılı!\n"
     ]
    }
   ],
   "source": [
    "import pandas as pd\n",
    "import sklearn\n",
    "import matplotlib.pyplot as plt\n",
    "import seaborn as sns\n",
    "\n",
    "print(\"Kurulumlar başarılı!\")"
   ]
  },
  {
   "cell_type": "code",
   "execution_count": 96,
   "metadata": {},
   "outputs": [
    {
     "data": {
      "text/html": [
       "<div>\n",
       "<style scoped>\n",
       "    .dataframe tbody tr th:only-of-type {\n",
       "        vertical-align: middle;\n",
       "    }\n",
       "\n",
       "    .dataframe tbody tr th {\n",
       "        vertical-align: top;\n",
       "    }\n",
       "\n",
       "    .dataframe thead th {\n",
       "        text-align: right;\n",
       "    }\n",
       "</style>\n",
       "<table border=\"1\" class=\"dataframe\">\n",
       "  <thead>\n",
       "    <tr style=\"text-align: right;\">\n",
       "      <th></th>\n",
       "      <th>KISI_ID</th>\n",
       "      <th>BASVURU_ID</th>\n",
       "      <th>YIL</th>\n",
       "      <th>DÖNEM</th>\n",
       "      <th>BASVURU_TIPI</th>\n",
       "      <th>UYRUK</th>\n",
       "      <th>CINSIYET</th>\n",
       "      <th>PUAN</th>\n",
       "      <th>BASARI_DURUMU</th>\n",
       "      <th>KESIN_KAYIT_DURUMU</th>\n",
       "    </tr>\n",
       "  </thead>\n",
       "  <tbody>\n",
       "    <tr>\n",
       "      <th>0</th>\n",
       "      <td>NaN</td>\n",
       "      <td>9</td>\n",
       "      <td>2012</td>\n",
       "      <td>Güz</td>\n",
       "      <td>Uluslararası Öğrenci</td>\n",
       "      <td>İRAN</td>\n",
       "      <td>Kadın</td>\n",
       "      <td>15.0</td>\n",
       "      <td>DEGERLENDIRILMEDI</td>\n",
       "      <td>KESIN KAYIT YAPMADI</td>\n",
       "    </tr>\n",
       "    <tr>\n",
       "      <th>1</th>\n",
       "      <td>NaN</td>\n",
       "      <td>12</td>\n",
       "      <td>2012</td>\n",
       "      <td>Güz</td>\n",
       "      <td>Uluslararası Öğrenci</td>\n",
       "      <td>TÜRKMENİSTAN</td>\n",
       "      <td>Kadın</td>\n",
       "      <td>5.0</td>\n",
       "      <td>DEGERLENDIRILMEDI</td>\n",
       "      <td>KESIN KAYIT YAPMADI</td>\n",
       "    </tr>\n",
       "    <tr>\n",
       "      <th>2</th>\n",
       "      <td>NaN</td>\n",
       "      <td>16</td>\n",
       "      <td>2012</td>\n",
       "      <td>Güz</td>\n",
       "      <td>Uluslararası Öğrenci</td>\n",
       "      <td>AZERBAYCAN</td>\n",
       "      <td>Erkek</td>\n",
       "      <td>1430.0</td>\n",
       "      <td>DEGERLENDIRILMEDI</td>\n",
       "      <td>KESIN KAYIT YAPMADI</td>\n",
       "    </tr>\n",
       "    <tr>\n",
       "      <th>3</th>\n",
       "      <td>NaN</td>\n",
       "      <td>20</td>\n",
       "      <td>2012</td>\n",
       "      <td>Güz</td>\n",
       "      <td>Uluslararası Öğrenci</td>\n",
       "      <td>SURİYE</td>\n",
       "      <td>Erkek</td>\n",
       "      <td>220.0</td>\n",
       "      <td>DEGERLENDIRILMEDI</td>\n",
       "      <td>KESIN KAYIT YAPMADI</td>\n",
       "    </tr>\n",
       "    <tr>\n",
       "      <th>4</th>\n",
       "      <td>NaN</td>\n",
       "      <td>26</td>\n",
       "      <td>2012</td>\n",
       "      <td>Güz</td>\n",
       "      <td>Uluslararası Öğrenci</td>\n",
       "      <td>TÜRKMENİSTAN</td>\n",
       "      <td>Kadın</td>\n",
       "      <td>76.0</td>\n",
       "      <td>DEGERLENDIRILMEDI</td>\n",
       "      <td>KESIN KAYIT YAPMADI</td>\n",
       "    </tr>\n",
       "  </tbody>\n",
       "</table>\n",
       "</div>"
      ],
      "text/plain": [
       "   KISI_ID  BASVURU_ID   YIL DÖNEM          BASVURU_TIPI         UYRUK  \\\n",
       "0      NaN           9  2012   Güz  Uluslararası Öğrenci          İRAN   \n",
       "1      NaN          12  2012   Güz  Uluslararası Öğrenci  TÜRKMENİSTAN   \n",
       "2      NaN          16  2012   Güz  Uluslararası Öğrenci    AZERBAYCAN   \n",
       "3      NaN          20  2012   Güz  Uluslararası Öğrenci        SURİYE   \n",
       "4      NaN          26  2012   Güz  Uluslararası Öğrenci  TÜRKMENİSTAN   \n",
       "\n",
       "  CINSIYET    PUAN      BASARI_DURUMU   KESIN_KAYIT_DURUMU  \n",
       "0    Kadın    15.0  DEGERLENDIRILMEDI  KESIN KAYIT YAPMADI  \n",
       "1    Kadın     5.0  DEGERLENDIRILMEDI  KESIN KAYIT YAPMADI  \n",
       "2    Erkek  1430.0  DEGERLENDIRILMEDI  KESIN KAYIT YAPMADI  \n",
       "3    Erkek   220.0  DEGERLENDIRILMEDI  KESIN KAYIT YAPMADI  \n",
       "4    Kadın    76.0  DEGERLENDIRILMEDI  KESIN KAYIT YAPMADI  "
      ]
     },
     "execution_count": 96,
     "metadata": {},
     "output_type": "execute_result"
    }
   ],
   "source": [
    "# Excel dosyasını okuma\n",
    "file_name = 'BASVURU.xlsx'\n",
    "# DataFrame'i daha şık görüntüleme\n",
    "dff = pd.read_excel(file_name, engine='openpyxl') \n",
    "# Tablo görüntüleme\n",
    "dff.head()  \n"
   ]
  },
  {
   "cell_type": "code",
   "execution_count": 97,
   "metadata": {},
   "outputs": [
    {
     "name": "stdout",
     "output_type": "stream",
     "text": [
      "(17548, 10)\n"
     ]
    }
   ],
   "source": [
    "# Veri setinin boyutlarını öğrenme\n",
    "print(dff.shape)"
   ]
  },
  {
   "cell_type": "code",
   "execution_count": 98,
   "metadata": {},
   "outputs": [
    {
     "name": "stdout",
     "output_type": "stream",
     "text": [
      "<class 'pandas.core.frame.DataFrame'>\n",
      "RangeIndex: 17548 entries, 0 to 17547\n",
      "Data columns (total 10 columns):\n",
      " #   Column              Non-Null Count  Dtype  \n",
      "---  ------              --------------  -----  \n",
      " 0   KISI_ID             1026 non-null   float64\n",
      " 1   BASVURU_ID          17548 non-null  int64  \n",
      " 2   YIL                 17548 non-null  int64  \n",
      " 3   DÖNEM               17548 non-null  object \n",
      " 4   BASVURU_TIPI        17548 non-null  object \n",
      " 5   UYRUK               17548 non-null  object \n",
      " 6   CINSIYET            17548 non-null  object \n",
      " 7   PUAN                17548 non-null  float64\n",
      " 8   BASARI_DURUMU       17548 non-null  object \n",
      " 9   KESIN_KAYIT_DURUMU  17548 non-null  object \n",
      "dtypes: float64(2), int64(2), object(6)\n",
      "memory usage: 1.3+ MB\n",
      "None\n"
     ]
    }
   ],
   "source": [
    "# Sütun adlarını ve veri tiplerini görüntüleme\n",
    "print(dff.info())"
   ]
  },
  {
   "cell_type": "code",
   "execution_count": 99,
   "metadata": {},
   "outputs": [
    {
     "name": "stdout",
     "output_type": "stream",
     "text": [
      "            KISI_ID    BASVURU_ID           YIL          PUAN\n",
      "count  1.026000e+03  17548.000000  17548.000000  17548.000000\n",
      "mean   8.479358e+05   6126.239913   2013.821860    114.259668\n",
      "std    3.680203e+05   3208.415247      0.635975    259.577873\n",
      "min    3.300000e+01      5.000000   2010.000000      0.000000\n",
      "25%    1.007124e+06   3857.000000   2014.000000     45.500000\n",
      "50%    1.007330e+06   6019.500000   2014.000000     67.165000\n",
      "75%    1.007775e+06   8918.250000   2014.000000     81.250000\n",
      "max    1.009997e+06  12326.000000   2015.000000   7168.000000\n"
     ]
    }
   ],
   "source": [
    "# Veri setinin ilk istatistiksel özetini alma\n",
    "print(dff.describe())\n"
   ]
  },
  {
   "cell_type": "code",
   "execution_count": 100,
   "metadata": {},
   "outputs": [
    {
     "name": "stdout",
     "output_type": "stream",
     "text": [
      "<class 'pandas.core.frame.DataFrame'>\n",
      "RangeIndex: 17548 entries, 0 to 17547\n",
      "Data columns (total 10 columns):\n",
      " #   Column              Non-Null Count  Dtype   \n",
      "---  ------              --------------  -----   \n",
      " 0   KISI_ID             1026 non-null   category\n",
      " 1   BASVURU_ID          17548 non-null  category\n",
      " 2   YIL                 17548 non-null  category\n",
      " 3   DÖNEM               17548 non-null  object  \n",
      " 4   BASVURU_TIPI        17548 non-null  object  \n",
      " 5   UYRUK               17548 non-null  object  \n",
      " 6   CINSIYET            17548 non-null  object  \n",
      " 7   PUAN                17548 non-null  float64 \n",
      " 8   BASARI_DURUMU       17548 non-null  object  \n",
      " 9   KESIN_KAYIT_DURUMU  17548 non-null  object  \n",
      "dtypes: category(3), float64(1), object(6)\n",
      "memory usage: 1.4+ MB\n",
      "None\n"
     ]
    }
   ],
   "source": [
    "# Hatalı sonuç alamamak adına 'KISI_ID', 'BASVURU_ID' ve 'YIL' sütunlarını kategorik veriye çevirme ve görüntüleme\n",
    "dff['KISI_ID'] = dff['KISI_ID'].astype('category')\n",
    "dff['BASVURU_ID'] = dff['BASVURU_ID'].astype('category')\n",
    "dff['YIL'] = dff['YIL'].astype('category')\n",
    "print(dff.info())"
   ]
  },
  {
   "cell_type": "code",
   "execution_count": 101,
   "metadata": {},
   "outputs": [
    {
     "name": "stdout",
     "output_type": "stream",
     "text": [
      "               PUAN\n",
      "count  17548.000000\n",
      "mean     114.259668\n",
      "std      259.577873\n",
      "min        0.000000\n",
      "25%       45.500000\n",
      "50%       67.165000\n",
      "75%       81.250000\n",
      "max     7168.000000\n"
     ]
    }
   ],
   "source": [
    "# Veri setinin istatistiksel özetini alma\n",
    "print(dff.describe())"
   ]
  },
  {
   "cell_type": "code",
   "execution_count": 102,
   "metadata": {},
   "outputs": [
    {
     "name": "stdout",
     "output_type": "stream",
     "text": [
      "KISI_ID               16522\n",
      "BASVURU_ID                0\n",
      "YIL                       0\n",
      "DÖNEM                     0\n",
      "BASVURU_TIPI              0\n",
      "UYRUK                     0\n",
      "CINSIYET                  0\n",
      "PUAN                      0\n",
      "BASARI_DURUMU             0\n",
      "KESIN_KAYIT_DURUMU        0\n",
      "dtype: int64\n"
     ]
    }
   ],
   "source": [
    "# Eksik verileri kontrol etme\n",
    "print(dff.isnull().sum())"
   ]
  },
  {
   "cell_type": "code",
   "execution_count": 103,
   "metadata": {},
   "outputs": [
    {
     "name": "stdout",
     "output_type": "stream",
     "text": [
      "KISI_ID sütununda 16522 eksik veri var.\n"
     ]
    }
   ],
   "source": [
    "# Eksik verileri belirli sütunlar için kontrol etme\n",
    "for col in dff.columns:\n",
    "    missing_count = dff[col].isnull().sum()\n",
    "    if missing_count > 0:\n",
    "        print(f\"{col} sütununda {missing_count} eksik veri var.\")\n"
   ]
  },
  {
   "cell_type": "code",
   "execution_count": 104,
   "metadata": {},
   "outputs": [
    {
     "name": "stdout",
     "output_type": "stream",
     "text": [
      "  BASVURU_ID   YIL DÖNEM          BASVURU_TIPI         UYRUK CINSIYET    PUAN  \\\n",
      "0          9  2012   Güz  Uluslararası Öğrenci          İRAN    Kadın    15.0   \n",
      "1         12  2012   Güz  Uluslararası Öğrenci  TÜRKMENİSTAN    Kadın     5.0   \n",
      "2         16  2012   Güz  Uluslararası Öğrenci    AZERBAYCAN    Erkek  1430.0   \n",
      "3         20  2012   Güz  Uluslararası Öğrenci        SURİYE    Erkek   220.0   \n",
      "4         26  2012   Güz  Uluslararası Öğrenci  TÜRKMENİSTAN    Kadın    76.0   \n",
      "\n",
      "       BASARI_DURUMU   KESIN_KAYIT_DURUMU  \n",
      "0  DEGERLENDIRILMEDI  KESIN KAYIT YAPMADI  \n",
      "1  DEGERLENDIRILMEDI  KESIN KAYIT YAPMADI  \n",
      "2  DEGERLENDIRILMEDI  KESIN KAYIT YAPMADI  \n",
      "3  DEGERLENDIRILMEDI  KESIN KAYIT YAPMADI  \n",
      "4  DEGERLENDIRILMEDI  KESIN KAYIT YAPMADI  \n"
     ]
    }
   ],
   "source": [
    "# KISI_ID sütununu atma\n",
    "dff = dff.drop(columns=['KISI_ID'])\n",
    "\n",
    "# İlk birkaç satırı görüntüleme ve sütunun atıldığını doğrulama\n",
    "print(dff.head())\n"
   ]
  },
  {
   "cell_type": "code",
   "execution_count": 105,
   "metadata": {},
   "outputs": [
    {
     "data": {
      "text/html": [
       "<div>\n",
       "<style scoped>\n",
       "    .dataframe tbody tr th:only-of-type {\n",
       "        vertical-align: middle;\n",
       "    }\n",
       "\n",
       "    .dataframe tbody tr th {\n",
       "        vertical-align: top;\n",
       "    }\n",
       "\n",
       "    .dataframe thead th {\n",
       "        text-align: right;\n",
       "    }\n",
       "</style>\n",
       "<table border=\"1\" class=\"dataframe\">\n",
       "  <thead>\n",
       "    <tr style=\"text-align: right;\">\n",
       "      <th></th>\n",
       "      <th>BASVURU_ID</th>\n",
       "      <th>YIL</th>\n",
       "      <th>DÖNEM</th>\n",
       "      <th>BASVURU_TIPI</th>\n",
       "      <th>UYRUK</th>\n",
       "      <th>CINSIYET</th>\n",
       "      <th>PUAN</th>\n",
       "      <th>BASARI_DURUMU</th>\n",
       "      <th>KESIN_KAYIT_DURUMU</th>\n",
       "    </tr>\n",
       "  </thead>\n",
       "  <tbody>\n",
       "    <tr>\n",
       "      <th>0</th>\n",
       "      <td>9</td>\n",
       "      <td>2012</td>\n",
       "      <td>Güz</td>\n",
       "      <td>Uluslararası Öğrenci</td>\n",
       "      <td>İRAN</td>\n",
       "      <td>Kadın</td>\n",
       "      <td>15.0</td>\n",
       "      <td>DEGERLENDIRILMEDI</td>\n",
       "      <td>KESIN KAYIT YAPMADI</td>\n",
       "    </tr>\n",
       "    <tr>\n",
       "      <th>1</th>\n",
       "      <td>12</td>\n",
       "      <td>2012</td>\n",
       "      <td>Güz</td>\n",
       "      <td>Uluslararası Öğrenci</td>\n",
       "      <td>TÜRKMENİSTAN</td>\n",
       "      <td>Kadın</td>\n",
       "      <td>5.0</td>\n",
       "      <td>DEGERLENDIRILMEDI</td>\n",
       "      <td>KESIN KAYIT YAPMADI</td>\n",
       "    </tr>\n",
       "    <tr>\n",
       "      <th>2</th>\n",
       "      <td>16</td>\n",
       "      <td>2012</td>\n",
       "      <td>Güz</td>\n",
       "      <td>Uluslararası Öğrenci</td>\n",
       "      <td>AZERBAYCAN</td>\n",
       "      <td>Erkek</td>\n",
       "      <td>1430.0</td>\n",
       "      <td>DEGERLENDIRILMEDI</td>\n",
       "      <td>KESIN KAYIT YAPMADI</td>\n",
       "    </tr>\n",
       "    <tr>\n",
       "      <th>3</th>\n",
       "      <td>20</td>\n",
       "      <td>2012</td>\n",
       "      <td>Güz</td>\n",
       "      <td>Uluslararası Öğrenci</td>\n",
       "      <td>SURİYE</td>\n",
       "      <td>Erkek</td>\n",
       "      <td>220.0</td>\n",
       "      <td>DEGERLENDIRILMEDI</td>\n",
       "      <td>KESIN KAYIT YAPMADI</td>\n",
       "    </tr>\n",
       "    <tr>\n",
       "      <th>4</th>\n",
       "      <td>26</td>\n",
       "      <td>2012</td>\n",
       "      <td>Güz</td>\n",
       "      <td>Uluslararası Öğrenci</td>\n",
       "      <td>TÜRKMENİSTAN</td>\n",
       "      <td>Kadın</td>\n",
       "      <td>76.0</td>\n",
       "      <td>DEGERLENDIRILMEDI</td>\n",
       "      <td>KESIN KAYIT YAPMADI</td>\n",
       "    </tr>\n",
       "  </tbody>\n",
       "</table>\n",
       "</div>"
      ],
      "text/plain": [
       "  BASVURU_ID   YIL DÖNEM          BASVURU_TIPI         UYRUK CINSIYET    PUAN  \\\n",
       "0          9  2012   Güz  Uluslararası Öğrenci          İRAN    Kadın    15.0   \n",
       "1         12  2012   Güz  Uluslararası Öğrenci  TÜRKMENİSTAN    Kadın     5.0   \n",
       "2         16  2012   Güz  Uluslararası Öğrenci    AZERBAYCAN    Erkek  1430.0   \n",
       "3         20  2012   Güz  Uluslararası Öğrenci        SURİYE    Erkek   220.0   \n",
       "4         26  2012   Güz  Uluslararası Öğrenci  TÜRKMENİSTAN    Kadın    76.0   \n",
       "\n",
       "       BASARI_DURUMU   KESIN_KAYIT_DURUMU  \n",
       "0  DEGERLENDIRILMEDI  KESIN KAYIT YAPMADI  \n",
       "1  DEGERLENDIRILMEDI  KESIN KAYIT YAPMADI  \n",
       "2  DEGERLENDIRILMEDI  KESIN KAYIT YAPMADI  \n",
       "3  DEGERLENDIRILMEDI  KESIN KAYIT YAPMADI  \n",
       "4  DEGERLENDIRILMEDI  KESIN KAYIT YAPMADI  "
      ]
     },
     "execution_count": 105,
     "metadata": {},
     "output_type": "execute_result"
    }
   ],
   "source": [
    "# Güncellenmiş veri setinin kaydedilmesi ve görüntülenmesi\n",
    "dff.to_csv('cleaned_data_without_id.csv', index=False)\n",
    "dff.head()"
   ]
  },
  {
   "cell_type": "code",
   "execution_count": 106,
   "metadata": {},
   "outputs": [
    {
     "name": "stdout",
     "output_type": "stream",
     "text": [
      "Orijinal Sütunlar: Index(['BASVURU_ID', 'YIL', 'DÖNEM', 'BASVURU_TIPI', 'UYRUK', 'CINSIYET',\n",
      "       'PUAN', 'BASARI_DURUMU', 'KESIN_KAYIT_DURUMU'],\n",
      "      dtype='object')\n"
     ]
    }
   ],
   "source": [
    "# Sütun adlarını görüntüleme\n",
    "print(\"Orijinal Sütunlar:\", dff.columns)"
   ]
  },
  {
   "cell_type": "code",
   "execution_count": 107,
   "metadata": {},
   "outputs": [
    {
     "name": "stdout",
     "output_type": "stream",
     "text": [
      "Kategorik Sütunlar: Index(['BASVURU_ID', 'YIL', 'DÖNEM', 'BASVURU_TIPI', 'UYRUK', 'CINSIYET',\n",
      "       'BASARI_DURUMU', 'KESIN_KAYIT_DURUMU'],\n",
      "      dtype='object')\n",
      "Sayısal Sütunlar: Index(['PUAN'], dtype='object')\n"
     ]
    }
   ],
   "source": [
    "# Veri setindeki kategorik ve sayısal değişkenleri ayırma\n",
    "categorical_cols = dff.select_dtypes(include=['object', 'category']).columns\n",
    "numerical_cols = dff.select_dtypes(include=['number']).columns\n",
    "\n",
    "print(f\"Kategorik Sütunlar: {categorical_cols}\")\n",
    "print(f\"Sayısal Sütunlar: {numerical_cols}\")"
   ]
  },
  {
   "cell_type": "code",
   "execution_count": 108,
   "metadata": {},
   "outputs": [
    {
     "name": "stdout",
     "output_type": "stream",
     "text": [
      "Benzersiz Dönem Değerleri: ['Güz' 'Bahar']\n",
      "Benzersiz Başvuru Tipi Değerleri: ['Uluslararası Öğrenci' 'Enstitu' 'Lisans Yatay Geçiş']\n",
      "Benzersiz Uyruk Değerleri: ['İRAN' 'TÜRKMENİSTAN' 'AZERBAYCAN' 'SURİYE' 'FİLİSTİN' 'YUNANİSTAN'\n",
      " 'İNGİLTERE / BİRLEŞİK KRALLIK' 'ALMANYA' 'UKRAYNA' 'TACİKİSTAN'\n",
      " 'ARNAVUTLUK' 'ÖZBEKİSTAN' 'TÜRKİYE' 'MORİTANYA' 'A.B.D.'\n",
      " 'KUZEY MAKEDONYA' 'KUZEY KIBRIS TÜRK CUMHURİYETİ' 'IRAK' 'KIRGIZİSTAN'\n",
      " 'AFGANİSTAN' 'AVUSTURYA' 'KENYA' 'KOSOVA' 'MISIR' 'BULGARİSTAN'\n",
      " 'TANZANYA' 'GÜRCİSTAN' 'SIRBİSTAN' 'FRANSA' 'ÇİN' 'GÜNEY AFRİKA'\n",
      " 'PAKİSTAN' 'RUSYA' 'ÜRDÜN' 'ROMANYA' 'HOLLANDA' 'SOMALİ' 'ENDONEZYA'\n",
      " 'SUDAN' 'DANİMARKA' 'GİNE BİSSAU' 'FAS' 'İSRAİL' 'UGANDA'\n",
      " 'SUUDİ ARABİSTAN' 'ÇAD' 'YEMEN' 'NİJERYA' 'SENEGAL' 'KAMERUN' 'LİBYA'\n",
      " 'İTALYA' 'TUNUS' 'MALİ' 'GİNE' 'KAZAKİSTAN' 'İSVİÇRE' 'PERU' 'MOLDOVA'\n",
      " 'GÜNEY KIBRIS RUM KESİMİ' 'BOSNA HERSEK' 'KANADA' 'ETİOPYA' 'KARADAĞ'\n",
      " 'AMERİKAN SAMOA' 'MOĞOLİSTAN' 'AVUSTRALYA' 'BELÇİKA' 'GANA' 'İSVEÇ'\n",
      " 'FİLİPİNLER' 'PAPUA YENİ GİNE' 'LÜBNAN' 'ANGOLA' 'NEPAL' 'ZAMBİA' 'BURMA'\n",
      " 'MAURİTUS' 'JAPONYA']\n",
      "Benzersiz Cinsiyet Değerleri: ['Kadın' 'Erkek' 'Bilinmeyen']\n",
      "Benzersiz Başarı Durumu Değerleri: ['DEGERLENDIRILMEDI' 'Kazandı' 'Kazanamadı' 'Başvuru Reddedildi' 'Yedek'\n",
      " 'Kazanamadı (Mülakat Notu Yetersiz)' 'Kazanamadı (Başarı Notu Yetersiz)']\n",
      "Benzersiz Kesin Kayıt Durumu Değerleri: ['KESIN KAYIT YAPMADI' 'KESIN KAYIT YAPTI']\n"
     ]
    }
   ],
   "source": [
    "# Hata kontrolü için kategorik veri içeren sütunların benzersiz değerlerinin görüntülenmesi\n",
    "unique_values_donem = dff['DÖNEM'].unique()\n",
    "print(\"Benzersiz Dönem Değerleri:\", unique_values_donem)\n",
    "\n",
    "\n",
    "unique_values_tip = dff['BASVURU_TIPI'].unique()\n",
    "print(\"Benzersiz Başvuru Tipi Değerleri:\", unique_values_tip)\n",
    "\n",
    "unique_values_uyruk = dff['UYRUK'].unique()\n",
    "print(\"Benzersiz Uyruk Değerleri:\", unique_values_uyruk)\n",
    "\n",
    "unique_values_cinsiyet = dff['CINSIYET'].unique()\n",
    "print(\"Benzersiz Cinsiyet Değerleri:\", unique_values_cinsiyet)\n",
    "\n",
    "unique_values_basari = dff['BASARI_DURUMU'].unique()\n",
    "print(\"Benzersiz Başarı Durumu Değerleri:\", unique_values_basari)\n",
    "\n",
    "unique_values_kayit = dff['KESIN_KAYIT_DURUMU'].unique()\n",
    "print(\"Benzersiz Kesin Kayıt Durumu Değerleri:\", unique_values_kayit)\n"
   ]
  },
  {
   "cell_type": "code",
   "execution_count": 109,
   "metadata": {},
   "outputs": [
    {
     "name": "stdout",
     "output_type": "stream",
     "text": [
      "Cinsiyet Değerlerinin Sayımları:\n",
      "CINSIYET\n",
      "Erkek         10755\n",
      "Kadın          6769\n",
      "Bilinmeyen       24\n",
      "Name: count, dtype: int64\n"
     ]
    }
   ],
   "source": [
    "# Cinsiyet sütununu yakından inceleme\n",
    "value_counts_cinsiyet = dff['CINSIYET'].value_counts()\n",
    "print(\"Cinsiyet Değerlerinin Sayımları:\")\n",
    "print(value_counts_cinsiyet)"
   ]
  },
  {
   "cell_type": "code",
   "execution_count": 110,
   "metadata": {},
   "outputs": [
    {
     "name": "stdout",
     "output_type": "stream",
     "text": [
      "CINSIYET\n",
      "Erkek    10755\n",
      "Kadın     6769\n",
      "Name: count, dtype: int64\n"
     ]
    }
   ],
   "source": [
    "# Bilinmeyen cinsiyet değerlerine sahip satırları filtreleme\n",
    "df = dff[dff['CINSIYET'] != 'Bilinmeyen']\n",
    "\n",
    "# Filtrelenmiş veri setini kontrol etme\n",
    "print(df['CINSIYET'].value_counts())\n"
   ]
  },
  {
   "cell_type": "code",
   "execution_count": 113,
   "metadata": {},
   "outputs": [
    {
     "data": {
      "text/html": [
       "<div>\n",
       "<style scoped>\n",
       "    .dataframe tbody tr th:only-of-type {\n",
       "        vertical-align: middle;\n",
       "    }\n",
       "\n",
       "    .dataframe tbody tr th {\n",
       "        vertical-align: top;\n",
       "    }\n",
       "\n",
       "    .dataframe thead th {\n",
       "        text-align: right;\n",
       "    }\n",
       "</style>\n",
       "<table border=\"1\" class=\"dataframe\">\n",
       "  <thead>\n",
       "    <tr style=\"text-align: right;\">\n",
       "      <th></th>\n",
       "      <th>BASVURU_ID</th>\n",
       "      <th>YIL</th>\n",
       "      <th>DÖNEM</th>\n",
       "      <th>BASVURU_TIPI</th>\n",
       "      <th>UYRUK</th>\n",
       "      <th>CINSIYET</th>\n",
       "      <th>PUAN</th>\n",
       "      <th>BASARI_DURUMU</th>\n",
       "      <th>KESIN_KAYIT_DURUMU</th>\n",
       "    </tr>\n",
       "  </thead>\n",
       "  <tbody>\n",
       "    <tr>\n",
       "      <th>0</th>\n",
       "      <td>9</td>\n",
       "      <td>2012</td>\n",
       "      <td>Güz</td>\n",
       "      <td>Uluslararası Öğrenci</td>\n",
       "      <td>İRAN</td>\n",
       "      <td>Kadın</td>\n",
       "      <td>15.00</td>\n",
       "      <td>DEGERLENDIRILMEDI</td>\n",
       "      <td>KESIN KAYIT YAPMADI</td>\n",
       "    </tr>\n",
       "    <tr>\n",
       "      <th>1</th>\n",
       "      <td>12</td>\n",
       "      <td>2012</td>\n",
       "      <td>Güz</td>\n",
       "      <td>Uluslararası Öğrenci</td>\n",
       "      <td>TÜRKMENİSTAN</td>\n",
       "      <td>Kadın</td>\n",
       "      <td>5.00</td>\n",
       "      <td>DEGERLENDIRILMEDI</td>\n",
       "      <td>KESIN KAYIT YAPMADI</td>\n",
       "    </tr>\n",
       "    <tr>\n",
       "      <th>2</th>\n",
       "      <td>16</td>\n",
       "      <td>2012</td>\n",
       "      <td>Güz</td>\n",
       "      <td>Uluslararası Öğrenci</td>\n",
       "      <td>AZERBAYCAN</td>\n",
       "      <td>Erkek</td>\n",
       "      <td>1430.00</td>\n",
       "      <td>DEGERLENDIRILMEDI</td>\n",
       "      <td>KESIN KAYIT YAPMADI</td>\n",
       "    </tr>\n",
       "    <tr>\n",
       "      <th>3</th>\n",
       "      <td>20</td>\n",
       "      <td>2012</td>\n",
       "      <td>Güz</td>\n",
       "      <td>Uluslararası Öğrenci</td>\n",
       "      <td>SURİYE</td>\n",
       "      <td>Erkek</td>\n",
       "      <td>220.00</td>\n",
       "      <td>DEGERLENDIRILMEDI</td>\n",
       "      <td>KESIN KAYIT YAPMADI</td>\n",
       "    </tr>\n",
       "    <tr>\n",
       "      <th>4</th>\n",
       "      <td>26</td>\n",
       "      <td>2012</td>\n",
       "      <td>Güz</td>\n",
       "      <td>Uluslararası Öğrenci</td>\n",
       "      <td>TÜRKMENİSTAN</td>\n",
       "      <td>Kadın</td>\n",
       "      <td>76.00</td>\n",
       "      <td>DEGERLENDIRILMEDI</td>\n",
       "      <td>KESIN KAYIT YAPMADI</td>\n",
       "    </tr>\n",
       "    <tr>\n",
       "      <th>...</th>\n",
       "      <td>...</td>\n",
       "      <td>...</td>\n",
       "      <td>...</td>\n",
       "      <td>...</td>\n",
       "      <td>...</td>\n",
       "      <td>...</td>\n",
       "      <td>...</td>\n",
       "      <td>...</td>\n",
       "      <td>...</td>\n",
       "    </tr>\n",
       "    <tr>\n",
       "      <th>17543</th>\n",
       "      <td>12204</td>\n",
       "      <td>2015</td>\n",
       "      <td>Güz</td>\n",
       "      <td>Enstitu</td>\n",
       "      <td>TÜRKİYE</td>\n",
       "      <td>Kadın</td>\n",
       "      <td>75.44</td>\n",
       "      <td>Kazandı</td>\n",
       "      <td>KESIN KAYIT YAPTI</td>\n",
       "    </tr>\n",
       "    <tr>\n",
       "      <th>17544</th>\n",
       "      <td>12187</td>\n",
       "      <td>2015</td>\n",
       "      <td>Güz</td>\n",
       "      <td>Enstitu</td>\n",
       "      <td>TÜRKİYE</td>\n",
       "      <td>Kadın</td>\n",
       "      <td>76.50</td>\n",
       "      <td>Kazandı</td>\n",
       "      <td>KESIN KAYIT YAPTI</td>\n",
       "    </tr>\n",
       "    <tr>\n",
       "      <th>17545</th>\n",
       "      <td>12231</td>\n",
       "      <td>2015</td>\n",
       "      <td>Güz</td>\n",
       "      <td>Enstitu</td>\n",
       "      <td>TÜRKİYE</td>\n",
       "      <td>Kadın</td>\n",
       "      <td>76.90</td>\n",
       "      <td>Kazandı</td>\n",
       "      <td>KESIN KAYIT YAPTI</td>\n",
       "    </tr>\n",
       "    <tr>\n",
       "      <th>17546</th>\n",
       "      <td>12104</td>\n",
       "      <td>2015</td>\n",
       "      <td>Güz</td>\n",
       "      <td>Enstitu</td>\n",
       "      <td>TÜRKİYE</td>\n",
       "      <td>Erkek</td>\n",
       "      <td>77.77</td>\n",
       "      <td>Kazandı</td>\n",
       "      <td>KESIN KAYIT YAPTI</td>\n",
       "    </tr>\n",
       "    <tr>\n",
       "      <th>17547</th>\n",
       "      <td>12284</td>\n",
       "      <td>2015</td>\n",
       "      <td>Güz</td>\n",
       "      <td>Enstitu</td>\n",
       "      <td>TÜRKİYE</td>\n",
       "      <td>Kadın</td>\n",
       "      <td>62.94</td>\n",
       "      <td>Kazandı</td>\n",
       "      <td>KESIN KAYIT YAPTI</td>\n",
       "    </tr>\n",
       "  </tbody>\n",
       "</table>\n",
       "<p>17524 rows × 9 columns</p>\n",
       "</div>"
      ],
      "text/plain": [
       "      BASVURU_ID   YIL DÖNEM          BASVURU_TIPI         UYRUK CINSIYET  \\\n",
       "0              9  2012   Güz  Uluslararası Öğrenci          İRAN    Kadın   \n",
       "1             12  2012   Güz  Uluslararası Öğrenci  TÜRKMENİSTAN    Kadın   \n",
       "2             16  2012   Güz  Uluslararası Öğrenci    AZERBAYCAN    Erkek   \n",
       "3             20  2012   Güz  Uluslararası Öğrenci        SURİYE    Erkek   \n",
       "4             26  2012   Güz  Uluslararası Öğrenci  TÜRKMENİSTAN    Kadın   \n",
       "...          ...   ...   ...                   ...           ...      ...   \n",
       "17543      12204  2015   Güz               Enstitu       TÜRKİYE    Kadın   \n",
       "17544      12187  2015   Güz               Enstitu       TÜRKİYE    Kadın   \n",
       "17545      12231  2015   Güz               Enstitu       TÜRKİYE    Kadın   \n",
       "17546      12104  2015   Güz               Enstitu       TÜRKİYE    Erkek   \n",
       "17547      12284  2015   Güz               Enstitu       TÜRKİYE    Kadın   \n",
       "\n",
       "          PUAN      BASARI_DURUMU   KESIN_KAYIT_DURUMU  \n",
       "0        15.00  DEGERLENDIRILMEDI  KESIN KAYIT YAPMADI  \n",
       "1         5.00  DEGERLENDIRILMEDI  KESIN KAYIT YAPMADI  \n",
       "2      1430.00  DEGERLENDIRILMEDI  KESIN KAYIT YAPMADI  \n",
       "3       220.00  DEGERLENDIRILMEDI  KESIN KAYIT YAPMADI  \n",
       "4        76.00  DEGERLENDIRILMEDI  KESIN KAYIT YAPMADI  \n",
       "...        ...                ...                  ...  \n",
       "17543    75.44            Kazandı    KESIN KAYIT YAPTI  \n",
       "17544    76.50            Kazandı    KESIN KAYIT YAPTI  \n",
       "17545    76.90            Kazandı    KESIN KAYIT YAPTI  \n",
       "17546    77.77            Kazandı    KESIN KAYIT YAPTI  \n",
       "17547    62.94            Kazandı    KESIN KAYIT YAPTI  \n",
       "\n",
       "[17524 rows x 9 columns]"
      ]
     },
     "execution_count": 113,
     "metadata": {},
     "output_type": "execute_result"
    }
   ],
   "source": [
    "# Güncellenmiş veri setini kaydetme ve görüntüleme\n",
    "df.to_csv('corrected_data.csv', index=False)\n",
    "df"
   ]
  },
  {
   "cell_type": "code",
   "execution_count": null,
   "metadata": {},
   "outputs": [],
   "source": []
  },
  {
   "cell_type": "code",
   "execution_count": null,
   "metadata": {},
   "outputs": [],
   "source": []
  }
 ],
 "metadata": {
  "kernelspec": {
   "display_name": "Python 3",
   "language": "python",
   "name": "python3"
  },
  "language_info": {
   "codemirror_mode": {
    "name": "ipython",
    "version": 3
   },
   "file_extension": ".py",
   "mimetype": "text/x-python",
   "name": "python",
   "nbconvert_exporter": "python",
   "pygments_lexer": "ipython3",
   "version": "3.12.0"
  }
 },
 "nbformat": 4,
 "nbformat_minor": 2
}
